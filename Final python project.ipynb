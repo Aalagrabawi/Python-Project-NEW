{
 "cells": [
  {
   "cell_type": "code",
   "execution_count": 1,
   "id": "dbd9d373",
   "metadata": {},
   "outputs": [],
   "source": [
    "#basic Libraries"
   ]
  },
  {
   "cell_type": "code",
   "execution_count": 3,
   "id": "d021108d",
   "metadata": {},
   "outputs": [],
   "source": [
    "import pandas as pd\n",
    "import numpy as np\n",
    "import datetime as dt\n",
    "import seaborn as sns\n",
    "import matplotlib.pyplot as plt\n",
    "from sklearn.feature_extraction.text import CountVectorizer\n",
    "import nltk\n",
    "from warnings import filterwarnings\n",
    "filterwarnings('ignore')"
   ]
  },
  {
   "cell_type": "code",
   "execution_count": 4,
   "id": "2df1dcd7",
   "metadata": {},
   "outputs": [],
   "source": [
    "#Libraries for preocessing text"
   ]
  },
  {
   "cell_type": "code",
   "execution_count": 6,
   "id": "0267ae62",
   "metadata": {},
   "outputs": [],
   "source": [
    "import string\n",
    "from nltk.stem import PorterStemmer\n",
    "from nltk.tokenize import word_tokenize\n",
    "import webcolors"
   ]
  },
  {
   "cell_type": "code",
   "execution_count": 8,
   "id": "83ddab3c",
   "metadata": {},
   "outputs": [],
   "source": [
    "from sklearn.feature_extraction.text import TfidfVectorizer\n",
    "from sklearn.decomposition import LatentDirichletAllocation"
   ]
  },
  {
   "cell_type": "code",
   "execution_count": 9,
   "id": "be096721",
   "metadata": {},
   "outputs": [],
   "source": [
    "#pip installs"
   ]
  },
  {
   "cell_type": "code",
   "execution_count": 10,
   "id": "55b8bf36",
   "metadata": {},
   "outputs": [
    {
     "name": "stdout",
     "output_type": "stream",
     "text": [
      "Requirement already satisfied: openpyxl in c:\\users\\aalag\\anaconda3\\lib\\site-packages (3.0.9)\n",
      "Requirement already satisfied: et-xmlfile in c:\\users\\aalag\\anaconda3\\lib\\site-packages (from openpyxl) (1.1.0)\n",
      "Requirement already satisfied: webcolors in c:\\users\\aalag\\anaconda3\\lib\\site-packages (1.11.1)\n"
     ]
    }
   ],
   "source": [
    "!pip install openpyxl\n",
    "!pip install webcolors"
   ]
  },
  {
   "cell_type": "code",
   "execution_count": 11,
   "id": "a7cec1a6",
   "metadata": {},
   "outputs": [],
   "source": [
    "import pandas as pd\n",
    "\n",
    "df = pd.read_excel (r'C:\\Users\\Aalag\\Downloads\\orders_data.xlsx')"
   ]
  },
  {
   "cell_type": "code",
   "execution_count": 12,
   "id": "7c18ade9",
   "metadata": {},
   "outputs": [
    {
     "data": {
      "text/html": [
       "<div>\n",
       "<style scoped>\n",
       "    .dataframe tbody tr th:only-of-type {\n",
       "        vertical-align: middle;\n",
       "    }\n",
       "\n",
       "    .dataframe tbody tr th {\n",
       "        vertical-align: top;\n",
       "    }\n",
       "\n",
       "    .dataframe thead th {\n",
       "        text-align: right;\n",
       "    }\n",
       "</style>\n",
       "<table border=\"1\" class=\"dataframe\">\n",
       "  <thead>\n",
       "    <tr style=\"text-align: right;\">\n",
       "      <th></th>\n",
       "      <th>order_no</th>\n",
       "      <th>order_date</th>\n",
       "      <th>buyer</th>\n",
       "      <th>ship_city</th>\n",
       "      <th>ship_state</th>\n",
       "      <th>sku</th>\n",
       "      <th>description</th>\n",
       "      <th>quantity</th>\n",
       "      <th>item_total</th>\n",
       "      <th>shipping_fee</th>\n",
       "      <th>cod</th>\n",
       "      <th>order_status</th>\n",
       "    </tr>\n",
       "  </thead>\n",
       "  <tbody>\n",
       "    <tr>\n",
       "      <th>0</th>\n",
       "      <td>405-9763961-5211537</td>\n",
       "      <td>Sun, 18 Jul, 2021, 10:38 pm IST</td>\n",
       "      <td>Mr.</td>\n",
       "      <td>CHANDIGARH,</td>\n",
       "      <td>CHANDIGARH</td>\n",
       "      <td>SKU:  2X-3C0F-KNJE</td>\n",
       "      <td>100% Leather Elephant Shaped Piggy Coin Bank |...</td>\n",
       "      <td>1</td>\n",
       "      <td>₹449.00</td>\n",
       "      <td>NaN</td>\n",
       "      <td>NaN</td>\n",
       "      <td>Delivered to buyer</td>\n",
       "    </tr>\n",
       "    <tr>\n",
       "      <th>1</th>\n",
       "      <td>404-3964908-7850720</td>\n",
       "      <td>Tue, 19 Oct, 2021, 6:05 pm IST</td>\n",
       "      <td>Minam</td>\n",
       "      <td>PASIGHAT,</td>\n",
       "      <td>ARUNACHAL PRADESH</td>\n",
       "      <td>SKU:  DN-0WDX-VYOT</td>\n",
       "      <td>Women's Set of 5 Multicolor Pure Leather Singl...</td>\n",
       "      <td>1</td>\n",
       "      <td>₹449.00</td>\n",
       "      <td>₹60.18</td>\n",
       "      <td>NaN</td>\n",
       "      <td>Delivered to buyer</td>\n",
       "    </tr>\n",
       "    <tr>\n",
       "      <th>2</th>\n",
       "      <td>171-8103182-4289117</td>\n",
       "      <td>Sun, 28 Nov, 2021, 10:20 pm IST</td>\n",
       "      <td>yatipertin</td>\n",
       "      <td>PASIGHAT,</td>\n",
       "      <td>ARUNACHAL PRADESH</td>\n",
       "      <td>SKU:  DN-0WDX-VYOT</td>\n",
       "      <td>Women's Set of 5 Multicolor Pure Leather Singl...</td>\n",
       "      <td>1</td>\n",
       "      <td>₹449.00</td>\n",
       "      <td>₹60.18</td>\n",
       "      <td>NaN</td>\n",
       "      <td>Delivered to buyer</td>\n",
       "    </tr>\n",
       "    <tr>\n",
       "      <th>3</th>\n",
       "      <td>405-3171677-9557154</td>\n",
       "      <td>Wed, 28 Jul, 2021, 4:06 am IST</td>\n",
       "      <td>aciya</td>\n",
       "      <td>DEVARAKONDA,</td>\n",
       "      <td>TELANGANA</td>\n",
       "      <td>SKU:  AH-J3AO-R7DN</td>\n",
       "      <td>Pure 100% Leather Block Print Rectangular Jewe...</td>\n",
       "      <td>1</td>\n",
       "      <td>NaN</td>\n",
       "      <td>NaN</td>\n",
       "      <td>Cash On Delivery</td>\n",
       "      <td>Delivered to buyer</td>\n",
       "    </tr>\n",
       "    <tr>\n",
       "      <th>4</th>\n",
       "      <td>402-8910771-1215552</td>\n",
       "      <td>Tue, 28 Sept, 2021, 2:50 pm IST</td>\n",
       "      <td>Susmita</td>\n",
       "      <td>MUMBAI,</td>\n",
       "      <td>MAHARASHTRA</td>\n",
       "      <td>SKU:  KL-7WAA-Z82I</td>\n",
       "      <td>Pure Leather Sling Bag with Multiple Pockets a...</td>\n",
       "      <td>1</td>\n",
       "      <td>₹1,099.00</td>\n",
       "      <td>₹84.96</td>\n",
       "      <td>NaN</td>\n",
       "      <td>Delivered to buyer</td>\n",
       "    </tr>\n",
       "  </tbody>\n",
       "</table>\n",
       "</div>"
      ],
      "text/plain": [
       "              order_no                       order_date       buyer  \\\n",
       "0  405-9763961-5211537  Sun, 18 Jul, 2021, 10:38 pm IST         Mr.   \n",
       "1  404-3964908-7850720   Tue, 19 Oct, 2021, 6:05 pm IST       Minam   \n",
       "2  171-8103182-4289117  Sun, 28 Nov, 2021, 10:20 pm IST  yatipertin   \n",
       "3  405-3171677-9557154   Wed, 28 Jul, 2021, 4:06 am IST       aciya   \n",
       "4  402-8910771-1215552  Tue, 28 Sept, 2021, 2:50 pm IST     Susmita   \n",
       "\n",
       "      ship_city         ship_state                 sku  \\\n",
       "0   CHANDIGARH,         CHANDIGARH  SKU:  2X-3C0F-KNJE   \n",
       "1     PASIGHAT,  ARUNACHAL PRADESH  SKU:  DN-0WDX-VYOT   \n",
       "2     PASIGHAT,  ARUNACHAL PRADESH  SKU:  DN-0WDX-VYOT   \n",
       "3  DEVARAKONDA,          TELANGANA  SKU:  AH-J3AO-R7DN   \n",
       "4       MUMBAI,        MAHARASHTRA  SKU:  KL-7WAA-Z82I   \n",
       "\n",
       "                                         description  quantity item_total  \\\n",
       "0  100% Leather Elephant Shaped Piggy Coin Bank |...         1    ₹449.00   \n",
       "1  Women's Set of 5 Multicolor Pure Leather Singl...         1    ₹449.00   \n",
       "2  Women's Set of 5 Multicolor Pure Leather Singl...         1    ₹449.00   \n",
       "3  Pure 100% Leather Block Print Rectangular Jewe...         1        NaN   \n",
       "4  Pure Leather Sling Bag with Multiple Pockets a...         1  ₹1,099.00   \n",
       "\n",
       "  shipping_fee               cod        order_status  \n",
       "0          NaN               NaN  Delivered to buyer  \n",
       "1       ₹60.18               NaN  Delivered to buyer  \n",
       "2       ₹60.18               NaN  Delivered to buyer  \n",
       "3          NaN  Cash On Delivery  Delivered to buyer  \n",
       "4       ₹84.96               NaN  Delivered to buyer  "
      ]
     },
     "execution_count": 12,
     "metadata": {},
     "output_type": "execute_result"
    }
   ],
   "source": [
    "df.head()"
   ]
  },
  {
   "cell_type": "code",
   "execution_count": 13,
   "id": "0985c622",
   "metadata": {},
   "outputs": [],
   "source": [
    "#understanding the dataset"
   ]
  },
  {
   "cell_type": "code",
   "execution_count": 14,
   "id": "1ec3ac4e",
   "metadata": {},
   "outputs": [
    {
     "data": {
      "text/plain": [
       "(171, 12)"
      ]
     },
     "execution_count": 14,
     "metadata": {},
     "output_type": "execute_result"
    }
   ],
   "source": [
    "df.shape"
   ]
  },
  {
   "cell_type": "code",
   "execution_count": 15,
   "id": "58143bde",
   "metadata": {},
   "outputs": [
    {
     "data": {
      "text/plain": [
       "order_no        object\n",
       "order_date      object\n",
       "buyer           object\n",
       "ship_city       object\n",
       "ship_state      object\n",
       "sku             object\n",
       "description     object\n",
       "quantity         int64\n",
       "item_total      object\n",
       "shipping_fee    object\n",
       "cod             object\n",
       "order_status    object\n",
       "dtype: object"
      ]
     },
     "execution_count": 15,
     "metadata": {},
     "output_type": "execute_result"
    }
   ],
   "source": [
    "df.dtypes"
   ]
  },
  {
   "cell_type": "code",
   "execution_count": 16,
   "id": "6cc067c5",
   "metadata": {},
   "outputs": [],
   "source": [
    "#looking at the datatypes we can see that:\n",
    "#order_date can be coverted to date time\n",
    "#item_total and shipping fee are object data type, should be coverted to numeric "
   ]
  },
  {
   "cell_type": "code",
   "execution_count": 17,
   "id": "0c6c0be4",
   "metadata": {},
   "outputs": [],
   "source": [
    "#checking missing values"
   ]
  },
  {
   "cell_type": "code",
   "execution_count": 18,
   "id": "c71abea8",
   "metadata": {},
   "outputs": [
    {
     "data": {
      "image/png": "[encoded data removed]",
      "text/plain": [
       "<Figure size 432x288 with 2 Axes>"
      ]
     },
     "metadata": {
      "needs_background": "light"
     },
     "output_type": "display_data"
    }
   ],
   "source": [
    "sns.heatmap(df.isnull(), cmap = 'viridis')\n",
    "\n",
    "plt.yticks([])\n",
    "\n",
    "plt.show()"
   ]
  },
  {
   "cell_type": "code",
   "execution_count": 19,
   "id": "cc25c31d",
   "metadata": {},
   "outputs": [],
   "source": [
    "#missing value percentage"
   ]
  },
  {
   "cell_type": "code",
   "execution_count": 20,
   "id": "36e97230",
   "metadata": {},
   "outputs": [
    {
     "data": {
      "text/plain": [
       "order_no         0.000000\n",
       "order_date       0.000000\n",
       "buyer            0.000000\n",
       "ship_city        0.000000\n",
       "ship_state       0.000000\n",
       "sku              0.000000\n",
       "description      0.000000\n",
       "quantity         0.000000\n",
       "item_total      10.526316\n",
       "shipping_fee    15.204678\n",
       "cod             72.514620\n",
       "order_status     0.000000\n",
       "dtype: float64"
      ]
     },
     "execution_count": 20,
     "metadata": {},
     "output_type": "execute_result"
    }
   ],
   "source": [
    "df.isnull().sum()/len(df)*100"
   ]
  },
  {
   "cell_type": "code",
   "execution_count": 21,
   "id": "643632e4",
   "metadata": {},
   "outputs": [],
   "source": [
    "#data cleaning, coverting the datatypes"
   ]
  },
  {
   "cell_type": "code",
   "execution_count": 22,
   "id": "1ec5f450",
   "metadata": {},
   "outputs": [],
   "source": [
    "df['item_total'] = pd.to_numeric(df['item_total'].str.replace(',',\"\").str.extract(r'([\\d]+\\.[\\d]+)')[0])"
   ]
  },
  {
   "cell_type": "code",
   "execution_count": 23,
   "id": "34eb72d2",
   "metadata": {},
   "outputs": [],
   "source": [
    "df['shipping_fee'] = pd.to_numeric(df['shipping_fee'].str.replace(',',\"\").str.extract(r'([\\d]+\\.[\\d]+)')[0])"
   ]
  },
  {
   "cell_type": "code",
   "execution_count": 24,
   "id": "6f30ec99",
   "metadata": {},
   "outputs": [],
   "source": [
    "df['order_date']  = pd.to_datetime(df['order_date'].astype(str).str.replace('IST',''))"
   ]
  },
  {
   "cell_type": "code",
   "execution_count": 25,
   "id": "99a13c56",
   "metadata": {},
   "outputs": [],
   "source": [
    "#checking the distribution of both columns before imputing"
   ]
  },
  {
   "cell_type": "code",
   "execution_count": 26,
   "id": "4e7a92a5",
   "metadata": {},
   "outputs": [
    {
     "data": {
      "image/png": "[encoded data removed]",
      "text/plain": [
       "<Figure size 1080x432 with 2 Axes>"
      ]
     },
     "metadata": {
      "needs_background": "light"
     },
     "output_type": "display_data"
    }
   ],
   "source": [
    "plt.figure(figsize = (15,6))\n",
    "\n",
    "plt.subplot(1,2,1)\n",
    "\n",
    "sns.histplot(df['item_total'])\n",
    "\n",
    "plt.subplot(1,2,2)\n",
    "\n",
    "sns.histplot(df['shipping_fee'])\n",
    "\n",
    "plt.show()"
   ]
  },
  {
   "cell_type": "code",
   "execution_count": 27,
   "id": "f99d93b0",
   "metadata": {},
   "outputs": [],
   "source": [
    "#distributions are right skewed so I'm using the median"
   ]
  },
  {
   "cell_type": "code",
   "execution_count": 28,
   "id": "0dada473",
   "metadata": {},
   "outputs": [],
   "source": [
    "df['item_total'].fillna(df['item_total'].median(),inplace = True)\n",
    "\n",
    "df['shipping_fee'].fillna(df['shipping_fee'].median(),inplace = True)"
   ]
  },
  {
   "cell_type": "code",
   "execution_count": 29,
   "id": "88d59aab",
   "metadata": {},
   "outputs": [],
   "source": [
    "#cash on Deliver feature, according to the data cod is Mod of payment-cash on delivery or not\n",
    "#For cod we can see that there are only two unqiue values. So I will convert this into a boolean"
   ]
  },
  {
   "cell_type": "code",
   "execution_count": 30,
   "id": "aa3e31ee",
   "metadata": {},
   "outputs": [
    {
     "data": {
      "text/plain": [
       "array([nan, 'Cash On Delivery'], dtype=object)"
      ]
     },
     "execution_count": 30,
     "metadata": {},
     "output_type": "execute_result"
    }
   ],
   "source": [
    "df['cod'].unique()"
   ]
  },
  {
   "cell_type": "code",
   "execution_count": 31,
   "id": "63b34c4a",
   "metadata": {},
   "outputs": [],
   "source": [
    "df['cod'].fillna(0, inplace = True)\n",
    "\n",
    "df['cod'].replace('Cash On Delivery',1, inplace = True)\n",
    "\n",
    "df['cod']= pd.to_numeric(df['cod'])"
   ]
  },
  {
   "cell_type": "code",
   "execution_count": 32,
   "id": "30d7612a",
   "metadata": {},
   "outputs": [],
   "source": [
    "#the state and city columns also need cleaning"
   ]
  },
  {
   "cell_type": "code",
   "execution_count": 33,
   "id": "92827d4b",
   "metadata": {},
   "outputs": [
    {
     "data": {
      "text/plain": [
       "array(['CHANDIGARH', 'ARUNACHAL PRADESH', 'TELANGANA', 'MAHARASHTRA',\n",
       "       'WEST BENGAL', 'UTTAR PRADESH', 'KARNATAKA', 'CHHATTISGARH',\n",
       "       'HARYANA', 'TRIPURA', 'TAMIL NADU', 'ODISHA', 'ANDHRA PRADESH',\n",
       "       'DELHI', 'GOA', 'Odisha', 'JAMMU & KASHMIR', 'GUJARAT', 'ASSAM',\n",
       "       'KERALA', 'Maharashtra', 'PUNJAB', 'RAJASTHAN', 'CHANDIGARH,',\n",
       "       'BIHAR', 'MADHYA Pradesh', 'MOHALI,', 'Andhra Pradesh',\n",
       "       'Himachal Pradesh', 'UTTARAKHAND'], dtype=object)"
      ]
     },
     "execution_count": 33,
     "metadata": {},
     "output_type": "execute_result"
    }
   ],
   "source": [
    "df['ship_state'].unique()"
   ]
  },
  {
   "cell_type": "code",
   "execution_count": 34,
   "id": "da93c713",
   "metadata": {},
   "outputs": [],
   "source": [
    "#coverting all values to the same case and removing commas"
   ]
  },
  {
   "cell_type": "code",
   "execution_count": 35,
   "id": "48ddde4f",
   "metadata": {},
   "outputs": [],
   "source": [
    "df['ship_state'] = df['ship_state'].str.upper().str.replace(',',\"\")\n",
    "df['ship_city'] = df['ship_city'].str.upper().str.replace(',',\"\")"
   ]
  },
  {
   "cell_type": "code",
   "execution_count": 36,
   "id": "4df1acd7",
   "metadata": {},
   "outputs": [],
   "source": [
    "#the data is now cleaned and ready for analysis"
   ]
  },
  {
   "cell_type": "code",
   "execution_count": 37,
   "id": "6630eaf8",
   "metadata": {},
   "outputs": [
    {
     "data": {
      "text/html": [
       "<div>\n",
       "<style scoped>\n",
       "    .dataframe tbody tr th:only-of-type {\n",
       "        vertical-align: middle;\n",
       "    }\n",
       "\n",
       "    .dataframe tbody tr th {\n",
       "        vertical-align: top;\n",
       "    }\n",
       "\n",
       "    .dataframe thead th {\n",
       "        text-align: right;\n",
       "    }\n",
       "</style>\n",
       "<table border=\"1\" class=\"dataframe\">\n",
       "  <thead>\n",
       "    <tr style=\"text-align: right;\">\n",
       "      <th></th>\n",
       "      <th>quantity</th>\n",
       "      <th>item_total</th>\n",
       "      <th>shipping_fee</th>\n",
       "      <th>cod</th>\n",
       "    </tr>\n",
       "  </thead>\n",
       "  <tbody>\n",
       "    <tr>\n",
       "      <th>count</th>\n",
       "      <td>171.000000</td>\n",
       "      <td>171.000000</td>\n",
       "      <td>171.000000</td>\n",
       "      <td>171.000000</td>\n",
       "    </tr>\n",
       "    <tr>\n",
       "      <th>mean</th>\n",
       "      <td>1.087719</td>\n",
       "      <td>568.766082</td>\n",
       "      <td>84.780585</td>\n",
       "      <td>0.274854</td>\n",
       "    </tr>\n",
       "    <tr>\n",
       "      <th>std</th>\n",
       "      <td>0.445132</td>\n",
       "      <td>463.371967</td>\n",
       "      <td>24.447241</td>\n",
       "      <td>0.447752</td>\n",
       "    </tr>\n",
       "    <tr>\n",
       "      <th>min</th>\n",
       "      <td>1.000000</td>\n",
       "      <td>175.000000</td>\n",
       "      <td>47.200000</td>\n",
       "      <td>0.000000</td>\n",
       "    </tr>\n",
       "    <tr>\n",
       "      <th>25%</th>\n",
       "      <td>1.000000</td>\n",
       "      <td>399.000000</td>\n",
       "      <td>84.960000</td>\n",
       "      <td>0.000000</td>\n",
       "    </tr>\n",
       "    <tr>\n",
       "      <th>50%</th>\n",
       "      <td>1.000000</td>\n",
       "      <td>449.000000</td>\n",
       "      <td>84.960000</td>\n",
       "      <td>0.000000</td>\n",
       "    </tr>\n",
       "    <tr>\n",
       "      <th>75%</th>\n",
       "      <td>1.000000</td>\n",
       "      <td>475.000000</td>\n",
       "      <td>84.960000</td>\n",
       "      <td>1.000000</td>\n",
       "    </tr>\n",
       "    <tr>\n",
       "      <th>max</th>\n",
       "      <td>4.000000</td>\n",
       "      <td>3897.000000</td>\n",
       "      <td>241.900000</td>\n",
       "      <td>1.000000</td>\n",
       "    </tr>\n",
       "  </tbody>\n",
       "</table>\n",
       "</div>"
      ],
      "text/plain": [
       "         quantity   item_total  shipping_fee         cod\n",
       "count  171.000000   171.000000    171.000000  171.000000\n",
       "mean     1.087719   568.766082     84.780585    0.274854\n",
       "std      0.445132   463.371967     24.447241    0.447752\n",
       "min      1.000000   175.000000     47.200000    0.000000\n",
       "25%      1.000000   399.000000     84.960000    0.000000\n",
       "50%      1.000000   449.000000     84.960000    0.000000\n",
       "75%      1.000000   475.000000     84.960000    1.000000\n",
       "max      4.000000  3897.000000    241.900000    1.000000"
      ]
     },
     "execution_count": 37,
     "metadata": {},
     "output_type": "execute_result"
    }
   ],
   "source": [
    "df.describe(include = np.number)"
   ]
  },
  {
   "cell_type": "code",
   "execution_count": 38,
   "id": "5c36e01b",
   "metadata": {},
   "outputs": [
    {
     "data": {
      "text/html": [
       "<div>\n",
       "<style scoped>\n",
       "    .dataframe tbody tr th:only-of-type {\n",
       "        vertical-align: middle;\n",
       "    }\n",
       "\n",
       "    .dataframe tbody tr th {\n",
       "        vertical-align: top;\n",
       "    }\n",
       "\n",
       "    .dataframe thead th {\n",
       "        text-align: right;\n",
       "    }\n",
       "</style>\n",
       "<table border=\"1\" class=\"dataframe\">\n",
       "  <thead>\n",
       "    <tr style=\"text-align: right;\">\n",
       "      <th></th>\n",
       "      <th>order_no</th>\n",
       "      <th>buyer</th>\n",
       "      <th>ship_city</th>\n",
       "      <th>ship_state</th>\n",
       "      <th>sku</th>\n",
       "      <th>description</th>\n",
       "      <th>order_status</th>\n",
       "    </tr>\n",
       "  </thead>\n",
       "  <tbody>\n",
       "    <tr>\n",
       "      <th>count</th>\n",
       "      <td>171</td>\n",
       "      <td>171</td>\n",
       "      <td>171</td>\n",
       "      <td>171</td>\n",
       "      <td>171</td>\n",
       "      <td>171</td>\n",
       "      <td>171</td>\n",
       "    </tr>\n",
       "    <tr>\n",
       "      <th>unique</th>\n",
       "      <td>171</td>\n",
       "      <td>149</td>\n",
       "      <td>74</td>\n",
       "      <td>26</td>\n",
       "      <td>54</td>\n",
       "      <td>61</td>\n",
       "      <td>2</td>\n",
       "    </tr>\n",
       "    <tr>\n",
       "      <th>top</th>\n",
       "      <td>405-9763961-5211537</td>\n",
       "      <td>Geetika</td>\n",
       "      <td>MUMBAI</td>\n",
       "      <td>MAHARASHTRA</td>\n",
       "      <td>SKU:  DN-0WDX-VYOT</td>\n",
       "      <td>Women's Set of 5 Multicolor Pure Leather Singl...</td>\n",
       "      <td>Delivered to buyer</td>\n",
       "    </tr>\n",
       "    <tr>\n",
       "      <th>freq</th>\n",
       "      <td>1</td>\n",
       "      <td>3</td>\n",
       "      <td>20</td>\n",
       "      <td>32</td>\n",
       "      <td>33</td>\n",
       "      <td>33</td>\n",
       "      <td>160</td>\n",
       "    </tr>\n",
       "  </tbody>\n",
       "</table>\n",
       "</div>"
      ],
      "text/plain": [
       "                   order_no    buyer ship_city   ship_state  \\\n",
       "count                   171      171       171          171   \n",
       "unique                  171      149        74           26   \n",
       "top     405-9763961-5211537  Geetika    MUMBAI  MAHARASHTRA   \n",
       "freq                      1        3        20           32   \n",
       "\n",
       "                       sku                                        description  \\\n",
       "count                  171                                                171   \n",
       "unique                  54                                                 61   \n",
       "top     SKU:  DN-0WDX-VYOT  Women's Set of 5 Multicolor Pure Leather Singl...   \n",
       "freq                    33                                                 33   \n",
       "\n",
       "              order_status  \n",
       "count                  171  \n",
       "unique                   2  \n",
       "top     Delivered to buyer  \n",
       "freq                   160  "
      ]
     },
     "execution_count": 38,
     "metadata": {},
     "output_type": "execute_result"
    }
   ],
   "source": [
    "df.describe(include = object)"
   ]
  },
  {
   "cell_type": "code",
   "execution_count": 39,
   "id": "b3cba404",
   "metadata": {},
   "outputs": [],
   "source": [
    "#we can see that:\n",
    "#Order number is unique for each row.\n",
    "#There are buyers who have placed more than 2 orders.\n",
    "#The company ships to 74 cities located across 26 states.\n",
    "#There are 54 unique products that have been ordered. \n",
    "#Jewelry Boxes are the most ordered item.\n",
    "#Only 11 orders are returned to the seller. "
   ]
  },
  {
   "cell_type": "code",
   "execution_count": 43,
   "id": "cf5bca12",
   "metadata": {},
   "outputs": [],
   "source": [
    "df['order_year'] = df['order_date'].dt.year\n",
    "df['order_month'] = df['order_date'].dt.month\n",
    "df['order_day'] = df['order_date'].dt.day\n",
    "df['order_quarter'] = df['order_date'].dt.quarter\n",
    "df['order_week'] = df['order_date'].dt.isocalendar().week\n",
    "df['order_weekday'] = df['order_date'].dt.weekday\n",
    "df['order_time'] = df['order_date'].dt.time\n",
    "df['order_date_extracted'] = df['order_date'].dt.date"
   ]
  },
  {
   "cell_type": "code",
   "execution_count": null,
   "id": "d2c4cafb",
   "metadata": {},
   "outputs": [],
   "source": [
    "#sales Trend over the past 6 months"
   ]
  },
  {
   "cell_type": "code",
   "execution_count": 42,
   "id": "ed34bd62",
   "metadata": {
    "scrolled": false
   },
   "outputs": [
    {
     "data": {
      "text/plain": [
       "<AxesSubplot:xlabel='order_date'>"
      ]
     },
     "execution_count": 42,
     "metadata": {},
     "output_type": "execute_result"
    },
    {
     "data": {
      "image/png": "[encoded data removed]",
      "text/plain": [
       "<Figure size 720x432 with 1 Axes>"
      ]
     },
     "metadata": {
      "needs_background": "light"
     },
     "output_type": "display_data"
    }
   ],
   "source": [
    "df.groupby(df['order_date'].dt.date)['item_total'].sum().sort_index().plot(kind = 'line' , figsize = (10,6))"
   ]
  },
  {
   "cell_type": "code",
   "execution_count": 44,
   "id": "ffbd46f8",
   "metadata": {},
   "outputs": [],
   "source": [
    "#the plot shows the total sales for each day over the past 6 months. we can see a spike in the sales in december"
   ]
  },
  {
   "cell_type": "code",
   "execution_count": 45,
   "id": "7d17708b",
   "metadata": {},
   "outputs": [],
   "source": [
    "#Sales over the past 6 months"
   ]
  },
  {
   "cell_type": "code",
   "execution_count": 46,
   "id": "1ea4a633",
   "metadata": {},
   "outputs": [
    {
     "data": {
      "text/plain": [
       "<AxesSubplot:xlabel='order_year,order_month'>"
      ]
     },
     "execution_count": 46,
     "metadata": {},
     "output_type": "execute_result"
    },
    {
     "data": {
      "image/png": "[encoded data removed]",
      "text/plain": [
       "<Figure size 720x432 with 1 Axes>"
      ]
     },
     "metadata": {
      "needs_background": "light"
     },
     "output_type": "display_data"
    }
   ],
   "source": [
    "df.groupby([df['order_year'],df['order_month']])['item_total'].sum().sort_index().plot(kind = 'bar' , figsize = (10,6))"
   ]
  },
  {
   "cell_type": "code",
   "execution_count": 47,
   "id": "08704f5e",
   "metadata": {},
   "outputs": [],
   "source": [
    "#sales in the month of December"
   ]
  },
  {
   "cell_type": "code",
   "execution_count": 48,
   "id": "38ec4d46",
   "metadata": {},
   "outputs": [
    {
     "data": {
      "image/png": "[encoded data removed]",
      "text/plain": [
       "<Figure size 432x288 with 1 Axes>"
      ]
     },
     "metadata": {
      "needs_background": "light"
     },
     "output_type": "display_data"
    }
   ],
   "source": [
    "df[df['order_month'] == 12].groupby(df['order_day'])['item_total'].sum().plot()\n",
    "\n",
    "plt.ylabel('Total Sales')\n",
    "\n",
    "plt.xlabel('Order Day in December month')\n",
    "\n",
    "plt.show()"
   ]
  },
  {
   "cell_type": "code",
   "execution_count": 49,
   "id": "5fd091d6",
   "metadata": {},
   "outputs": [],
   "source": [
    "#Which day of the week has maxiumum sales"
   ]
  },
  {
   "cell_type": "code",
   "execution_count": 50,
   "id": "c801b6bb",
   "metadata": {},
   "outputs": [
    {
     "data": {
      "image/png": "[encoded data removed]",
      "text/plain": [
       "<Figure size 432x288 with 1 Axes>"
      ]
     },
     "metadata": {
      "needs_background": "light"
     },
     "output_type": "display_data"
    }
   ],
   "source": [
    "df.groupby(df['order_weekday'])['item_total'].sum().sort_index().plot(kind = 'bar')\n",
    "\n",
    "days_of_week = ['Mon','Tue','Wed','Thur','Fri','Sat','Sun']\n",
    "\n",
    "plt.xticks(ticks = list(range(0,7)),labels = days_of_week)\n",
    "\n",
    "plt.show()"
   ]
  },
  {
   "cell_type": "code",
   "execution_count": null,
   "id": "25324a7e",
   "metadata": {},
   "outputs": [],
   "source": [
    "#what are the top 10 cities with the highest total sales"
   ]
  },
  {
   "cell_type": "code",
   "execution_count": 51,
   "id": "e3e6fccb",
   "metadata": {},
   "outputs": [
    {
     "data": {
      "text/plain": [
       "Text(0, 0.5, 'Total Sales')"
      ]
     },
     "execution_count": 51,
     "metadata": {},
     "output_type": "execute_result"
    },
    {
     "data": {
      "image/png": "[encoded data removed]",
      "text/plain": [
       "<Figure size 432x288 with 1 Axes>"
      ]
     },
     "metadata": {
      "needs_background": "light"
     },
     "output_type": "display_data"
    }
   ],
   "source": [
    "df.groupby(['ship_city'])['item_total'].sum().sort_values(ascending = False).iloc[:10].plot(kind = 'bar')\n",
    "\n",
    "plt.ylabel('Total Sales')"
   ]
  },
  {
   "cell_type": "code",
   "execution_count": null,
   "id": "81be5bda",
   "metadata": {},
   "outputs": [],
   "source": []
  }
 ],
 "metadata": {
  "kernelspec": {
   "display_name": "Python 3 (ipykernel)",
   "language": "python",
   "name": "python3"
  },
  "language_info": {
   "codemirror_mode": {
    "name": "ipython",
    "version": 3
   },
   "file_extension": ".py",
   "mimetype": "text/x-python",
   "name": "python",
   "nbconvert_exporter": "python",
   "pygments_lexer": "ipython3",
   "version": "3.9.7"
  }
 },
 "nbformat": 4,
 "nbformat_minor": 5
}
